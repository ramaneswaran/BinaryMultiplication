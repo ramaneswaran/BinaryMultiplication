{
 "cells": [
  {
   "cell_type": "markdown",
   "metadata": {},
   "source": [
    "# Binary Multiplication\n",
    "\n",
    "### Algorithm\n",
    "\n",
    "    *Take multiplicand(B) and multiplier(Q) as input\n",
    "    *Initialize As,Qs,A,E and Sc\n",
    "    *Loop through the below\n",
    "        *If Qn=1 To EA <-A+B\n",
    "        *If Qn=0 Shr EAQ and Sc-1\n",
    "### Functions Needed\n",
    "    *Conversion to binary\n",
    "    *Binary addition\n",
    "    *Shift Right"
   ]
  },
  {
   "cell_type": "code",
   "execution_count": 4,
   "metadata": {},
   "outputs": [],
   "source": [
    "import math"
   ]
  },
  {
   "cell_type": "code",
   "execution_count": 5,
   "metadata": {},
   "outputs": [],
   "source": [
    "def get_input():\n",
    "    '''\n",
    "    The function to take input multiplicand and multiplier in decimal\n",
    "    Parameters: None\n",
    "    Returns:\n",
    "    tuple: Containing binary multiplicand and mupltiplier as string\n",
    "    '''\n",
    "    B = int(input('Enter the multiplicand : '))\n",
    "    Q = int(input('Enter the multiplier : '))\n",
    "    return get_binary(B),get_binary(Q)"
   ]
  },
  {
   "cell_type": "code",
   "execution_count": 6,
   "metadata": {},
   "outputs": [],
   "source": [
    "def add_binary(addend, augend):\n",
    "    '''\n",
    "    The function to add two binary numbers\n",
    "    Parameters:\n",
    "    string: addend and augend (in binary form)\n",
    "    Returns:\n",
    "    string: sum of augend and addend (in binary form)\n",
    "    '''\n",
    "    total_sum = bin(int(addend,2)+int(augend,2))\n",
    "    return total_sum[2:]"
   ]
  },
  {
   "cell_type": "code",
   "execution_count": 7,
   "metadata": {},
   "outputs": [],
   "source": [
    "def shift_right(operand):\n",
    "    '''\n",
    "    The function performs right shift operation on binary number\n",
    "    Parameter:\n",
    "    string: The binary number\n",
    "    Return:\n",
    "    string: The right shifted binary number\n",
    "    '''\n",
    "    operand = int(operand,2)\n",
    "    operand = operand>>1\n",
    "    return bin(operand)[2:]"
   ]
  },
  {
   "cell_type": "code",
   "execution_count": 8,
   "metadata": {},
   "outputs": [],
   "source": [
    "get_binary = lambda x : bin(x)[2:] #Takes decimal number (int) and return binary equivalent(string)"
   ]
  },
  {
   "cell_type": "code",
   "execution_count": 9,
   "metadata": {},
   "outputs": [],
   "source": [
    "last_digit = lambda x: int(x)%10 #Takes a number (string) and returns last element"
   ]
  },
  {
   "cell_type": "code",
   "execution_count": 10,
   "metadata": {},
   "outputs": [],
   "source": [
    "class binary_multiplication():\n",
    "    '''\n",
    "    This is a class for performing binary multiplication\n",
    "    \n",
    "    Arguments:\n",
    "    int: multiplicand and multiplier\n",
    "    '''\n",
    "    \n",
    "    def __init__(self):\n",
    "        '''\n",
    "        The constructor function for binary_multiplication\n",
    "        \n",
    "        It inputs multiplicand and multipler \n",
    "        '''\n",
    "        \n",
    "        self.B, self.Q = get_input()\n",
    "        self.n = len(self.B) if len(self.B)>len(self.Q) else len(self.Q)\n",
    "        self.B = '0'*(self.n-len(self.B))+self.B\n",
    "        self.Q = '0'*(self.n-len(self.Q))+self.Q\n",
    "        \n",
    "    \n",
    "    def setup(self):\n",
    "        '''\n",
    "        The function to initialize the registers before start of multiplication\n",
    "        '''\n",
    "        \n",
    "        self.Qs = last_digit(self.Q)\n",
    "        self.Bs = last_digit(self.B)\n",
    "        self.As = self.Qs ^ self.Bs\n",
    "        self.Qs = self.As\n",
    "        self.A = '0'*self.n\n",
    "        self.E = '0'\n",
    "        self.Sc = self.n\n",
    "        \n",
    "    def compute(self):\n",
    "        '''\n",
    "        The function to compute values of the registers involved\n",
    "        '''\n",
    "        \n",
    "        Qn = last_digit(self.Q)\n",
    "        if(Qn == 1):\n",
    "            temp_sum = add_binary(self.A, self.B)\n",
    "            \n",
    "            #Logging A+B\n",
    "            print('Add A+B : {}'.format(temp_sum))\n",
    "            self.A = temp_sum[-self.n:]\n",
    "            self.E = temp_sum[:-self.n]\n",
    "            \n",
    "            #Logging value of A and E\n",
    "            print('E : {} and A : {}'.format(self.E, self.A))\n",
    "            \n",
    "            self.shift_and_decrement()\n",
    "            \n",
    "            \n",
    "        elif (Qn == 0):\n",
    "            self.shift_and_decrement()\n",
    "        \n",
    "        self.log_output()\n",
    "    \n",
    "    def shift_and_decrement(self):\n",
    "        '''\n",
    "        The function to shift EAQ and then decrement Sc counter\n",
    "        '''\n",
    "        \n",
    "        EAQ = self.E+self.A+self.Q\n",
    "        \n",
    "        #Logging value of EAQ before shifting\n",
    "        print('EAQ : {}'.format(EAQ))\n",
    "        \n",
    "        EAQ = shift_right(EAQ)\n",
    "        \n",
    "        #Logging value of EAQ after shifting\n",
    "        print('EAQ : {}'.format(EAQ))\n",
    "        \n",
    "        #If length of EAQ decreases\n",
    "        if(len(EAQ)< (2*self.n)+1):\n",
    "            EAQ = '0'*((2*self.n+1)-len(EAQ)) + EAQ\n",
    "        \n",
    "        self.Q = EAQ[-self.n:]\n",
    "        self.A = EAQ[2*(-self.n):(-self.n)]\n",
    "        self.E = EAQ[:2*(-self.n)]\n",
    "        \n",
    "        \n",
    "        if self.E == '':  #If there is no carry\n",
    "            self.E = '0'\n",
    "        \n",
    "        self.Sc-=1 #Decrement counter\n",
    "    \n",
    "    def log_output(self):\n",
    "        '''\n",
    "        The function to log intermediate register values at each step\n",
    "        '''\n",
    "        \n",
    "        print('E   A   Q   Sc')\n",
    "        print('{}  {}  {}  {} '.format(self.E, self.A, self.Q, self.Sc))\n",
    "        "
   ]
  },
  {
   "cell_type": "code",
   "execution_count": 11,
   "metadata": {},
   "outputs": [
    {
     "name": "stdout",
     "output_type": "stream",
     "text": [
      "Enter the multiplicand : 4\n",
      "Enter the multiplier : 5\n"
     ]
    }
   ],
   "source": [
    "mul_obj = binary_multiplication()"
   ]
  },
  {
   "cell_type": "code",
   "execution_count": 12,
   "metadata": {},
   "outputs": [
    {
     "data": {
      "text/plain": [
       "{'B': '100', 'Q': '101', 'n': 3}"
      ]
     },
     "execution_count": 12,
     "metadata": {},
     "output_type": "execute_result"
    }
   ],
   "source": [
    "mul_obj.__dict__"
   ]
  },
  {
   "cell_type": "code",
   "execution_count": 13,
   "metadata": {},
   "outputs": [],
   "source": [
    "mul_obj.setup()"
   ]
  },
  {
   "cell_type": "code",
   "execution_count": 16,
   "metadata": {},
   "outputs": [
    {
     "name": "stdout",
     "output_type": "stream",
     "text": [
      "Add A+B : 101\n",
      "E :  and A : 101\n",
      "EAQ : 101001\n",
      "EAQ : 10100\n",
      "E   A   Q   Sc\n",
      "0  010  100  0 \n"
     ]
    }
   ],
   "source": [
    "mul_obj.compute()"
   ]
  },
  {
   "cell_type": "code",
   "execution_count": null,
   "metadata": {},
   "outputs": [],
   "source": []
  }
 ],
 "metadata": {
  "kernelspec": {
   "display_name": "Python 3",
   "language": "python",
   "name": "python3"
  },
  "language_info": {
   "codemirror_mode": {
    "name": "ipython",
    "version": 3
   },
   "file_extension": ".py",
   "mimetype": "text/x-python",
   "name": "python",
   "nbconvert_exporter": "python",
   "pygments_lexer": "ipython3",
   "version": "3.6.9"
  }
 },
 "nbformat": 4,
 "nbformat_minor": 2
}
